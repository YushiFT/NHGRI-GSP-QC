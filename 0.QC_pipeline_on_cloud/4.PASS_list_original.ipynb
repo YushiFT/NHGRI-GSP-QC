{
 "cells": [
  {
   "cell_type": "markdown",
   "metadata": {},
   "source": [
    "# Prepare GSP Post QC Records"
   ]
  },
  {
   "cell_type": "markdown",
   "metadata": {},
   "source": [
    "##### Date: Aug 2, 2019\n",
    "#####     By: Yushi F. T."
   ]
  },
  {
   "cell_type": "markdown",
   "metadata": {},
   "source": [
    "### I. Calculate PASS Records"
   ]
  },
  {
   "cell_type": "code",
   "execution_count": null,
   "metadata": {},
   "outputs": [
    {
     "name": "stdout",
     "output_type": "stream",
     "text": [
      "77\n",
      "['qc.step0', 'qc.step1', 'qc.step2', 'qc.step3', 'qc.step4', 'qc.step5', 'qc.step6', 'qc.step7', 'qccum.step0', 'qccum.step1', 'qccum.step2', 'qccum.step3', 'qccum.step4', 'qccum.step5', 'qcpass']\n"
     ]
    }
   ],
   "source": [
    "First = True\n",
    "Record = 0\n",
    "PASS = [0] * 8\n",
    "for StrIn in open('../work/qced_5_ccdgf2_variant_qc_table.txt','r'):\n",
    "    if Record == 0:\n",
    "        TempStr = StrIn.split('\\n')[0]\n",
    "        TempStr = TempStr.split('\\t')\n",
    "        print(len(TempStr))\n",
    "        print(TempStr[25:40])\n",
    "        Record += 1\n",
    "    else:\n",
    "        TempStr = StrIn.split('\\n')[0]\n",
    "        TempStr = TempStr.split('\\t')\n",
    "        if (TempStr[26] == 'true'):\n",
    "            PASS[0] += 1\n",
    "        if (TempStr[26] == 'true') & (TempStr[27] == 'true'):\n",
    "            PASS[1] += 1\n",
    "        if (TempStr[26] == 'true') & (TempStr[27] == 'true') & (TempStr[28] == 'true'):\n",
    "            PASS[2] += 1\n",
    "        if (TempStr[26] == 'true') & (TempStr[27] == 'true') & (TempStr[28] == 'true') & (TempStr[30] == 'true'):\n",
    "            PASS[3] += 1\n",
    "            \n",
    "        # Examine global p-value\n",
    "        if (TempStr[26] == 'true') & (TempStr[27] == 'true') & (TempStr[28] == 'true') & (TempStr[32] == 'true'):\n",
    "            PASS[4] += 1\n",
    "            \n",
    "        # Examine qccum.step4\n",
    "        if TempStr[37] == 'true':\n",
    "            PASS[5] += 1\n",
    "            \n",
    "        # Examine qccum.step5\n",
    "        if TempStr[38] == 'true':\n",
    "            PASS[6] += 1\n",
    "            \n",
    "        # Examine qcpass\n",
    "        if TempStr[39] == 'true':\n",
    "            PASS[7] += 1\n",
    "            \n",
    "        Record += 1"
   ]
  },
  {
   "cell_type": "code",
   "execution_count": null,
   "metadata": {},
   "outputs": [],
   "source": [
    "print(Record)\n",
    "print(PASS)"
   ]
  },
  {
   "cell_type": "markdown",
   "metadata": {},
   "source": [
    "### II. Write Out Data and Check"
   ]
  },
  {
   "cell_type": "code",
   "execution_count": 3,
   "metadata": {},
   "outputs": [],
   "source": [
    "# Write out standard file in VCF format\n",
    "First = True\n",
    "Header = ['#CHROM','POS','ID','REF','ALT','QUAL','FILTER','INFO']\n",
    "with open('../work/qced_14_ccdgf2_variant_list.txt','w') as FileOut:\n",
    "    for StrIn in open('../work/qced_14_ccdgf2_variant_qc_table.txt','r'):\n",
    "        if First == True:\n",
    "            FileOut.write('\\t'.join(Header) + '\\n')\n",
    "            First = False\n",
    "        else:\n",
    "            TempStr = StrIn.split('\\n')[0]\n",
    "            TempStr = TempStr.split('\\t')\n",
    "            if (TempStr[26] == 'true') & (TempStr[27] == 'true') & (TempStr[28] == 'true') & (TempStr[30] == 'true'):\n",
    "                StrOut = TempStr[0].split(':')\n",
    "                StrOut.append('.')\n",
    "                StrOut.append(TempStr[1].split('\"')[1])\n",
    "                StrOut.append(TempStr[1].split('\"')[3])\n",
    "                StrOut.append('.')\n",
    "                StrOut.append('PASS')\n",
    "                StrOut.append('.')\n",
    "                FileOut.write('\\t'.join(StrOut) + '\\n')\n",
    "            else:\n",
    "                StrOut = TempStr[0].split(':')\n",
    "                StrOut.append('.')\n",
    "                StrOut.append(TempStr[1].split('\"')[1])\n",
    "                StrOut.append(TempStr[1].split('\"')[3])\n",
    "                StrOut.append('.')\n",
    "                StrOut.append('FAIL')\n",
    "                StrOut.append('.')\n",
    "                FileOut.write('\\t'.join(StrOut) + '\\n')              \n",
    "FileOut.close()                "
   ]
  },
  {
   "cell_type": "code",
   "execution_count": 4,
   "metadata": {},
   "outputs": [
    {
     "name": "stdout",
     "output_type": "stream",
     "text": [
      "14220161\n",
      "4607802\n",
      "18827963\n"
     ]
    }
   ],
   "source": [
    "# Check the output\n",
    "Pass = 0\n",
    "Fail = 0\n",
    "for StrIn in open('../work/qced_14_ccdgf2_variant_list.txt','r'):\n",
    "    TempStr = StrIn.split('\\n')[0]\n",
    "    TempStr = TempStr.split('\\t')\n",
    "    if TempStr[6] == 'PASS':\n",
    "        Pass += 1\n",
    "    elif TempStr[6] == 'FAIL':\n",
    "        Fail += 1\n",
    "print(Pass)\n",
    "print(Fail)\n",
    "print(Pass + Fail)"
   ]
  },
  {
   "cell_type": "markdown",
   "metadata": {},
   "source": [
    "### III. Prepare PASS Region as the BED Format"
   ]
  },
  {
   "cell_type": "raw",
   "metadata": {},
   "source": [
    "First = True\n",
    "with open('../work/qced_20_fail_region.bed','w') as FileOut:\n",
    "    for StrIn in open('../work/qced_20_ccdgf2_variant_qc_table_revise.txt','r'):\n",
    "        if First == True:\n",
    "            First = False\n",
    "        else:\n",
    "            TempStr = StrIn.split('\\n')[0]\n",
    "            TempStr = TempStr.split('\\t')\n",
    "            if (TempStr[26] == 'true') & (TempStr[27] == 'true') & (TempStr[28] == 'true') & (TempStr[30] == 'true'):\n",
    "                pass\n",
    "            else:\n",
    "                StrOut = TempStr[0].split(':')\n",
    "                ref_pos = int(TempStr[0].split(':')[1])\n",
    "                ref = TempStr[1].split('\"')[1]\n",
    "                alt = TempStr[1].split('\"')[3]\n",
    "                StrOut.append(str(ref_pos + len(alt)))\n",
    "                FileOut.write('\\t'.join(StrOut) + '\\n')              \n",
    "FileOut.close()"
   ]
  },
  {
   "cell_type": "raw",
   "metadata": {},
   "source": [
    "First = True\n",
    "with open('../work/qced_20_pass_region.bed','w') as FileOut:\n",
    "    for StrIn in open('../work/qced_20_ccdgf2_variant_qc_table_revise.txt','r'):\n",
    "        if First == True:\n",
    "            First = False\n",
    "        else:\n",
    "            TempStr = StrIn.split('\\n')[0]\n",
    "            TempStr = TempStr.split('\\t')\n",
    "            if (TempStr[26] == 'true') & (TempStr[27] == 'true') & (TempStr[28] == 'true') & (TempStr[30] == 'true'):\n",
    "                StrOut = TempStr[0].split(':')\n",
    "                ref_pos = int(TempStr[0].split(':')[1])\n",
    "                ref = TempStr[1].split('\"')[1]\n",
    "                alt = TempStr[1].split('\"')[3]\n",
    "                StrOut.append(str(ref_pos + len(alt)))\n",
    "                FileOut.write('\\t'.join(StrOut) + '\\n')\n",
    "            else:\n",
    "                pass\n",
    "FileOut.close()"
   ]
  },
  {
   "cell_type": "raw",
   "metadata": {},
   "source": [
    "First = True\n",
    "Record = 0\n",
    "with open('../work/qced_20_ccdgf2_variant_list_simple.txt','w') as FileOut:\n",
    "    for StrIn in open('../work/qced_20_ccdgf2_variant_qc_table_revise.txt','r'):\n",
    "        if First == True:\n",
    "            TempStr = StrIn.split('\\n')[0]\n",
    "            TempStr = TempStr.split('\\t')\n",
    "            StrOut = TempStr[0:2]\n",
    "            StrOut.append('QC_pass')\n",
    "            StrOut.append('ID')\n",
    "            FileOut.write('\\t'.join(StrOut) + '\\n')\n",
    "            First = False\n",
    "            Record += 1\n",
    "        else:\n",
    "            TempStr = StrIn.split('\\n')[0]\n",
    "            TempStr = TempStr.split('\\t')\n",
    "            if (TempStr[26] == 'true') & (TempStr[27] == 'true') & (TempStr[28] == 'true') & (TempStr[30] == 'true'):\n",
    "                StrOut = TempStr[0:2]\n",
    "                StrOut.append('True')\n",
    "                StrOut.append(str(Record))\n",
    "                FileOut.write('\\t'.join(StrOut) + '\\n')\n",
    "                Record += 1\n",
    "            else:\n",
    "                StrOut = TempStr[0:2]\n",
    "                StrOut.append('False')\n",
    "                StrOut.append(str(Record))\n",
    "                FileOut.write('\\t'.join(StrOut) + '\\n')\n",
    "                Record += 1\n",
    "FileOut.close()   "
   ]
  },
  {
   "cell_type": "markdown",
   "metadata": {},
   "source": [
    "### IV. Additional Calculation"
   ]
  },
  {
   "cell_type": "code",
   "execution_count": 1,
   "metadata": {},
   "outputs": [
    {
     "name": "stdout",
     "output_type": "stream",
     "text": [
      "107\n",
      "['qc.step0', 'qc.step1', 'qc.step2', 'qc.step3', 'qc.step4', 'qc.step5', 'qc.step6', 'qc.step7', 'qccum.step0', 'qccum.step1', 'qccum.step2', 'qccum.step3', 'qccum.step4', 'qccum.step5', 'qcpass']\n"
     ]
    }
   ],
   "source": [
    "First = True\n",
    "Record = 0\n",
    "PASS = [0] * 8\n",
    "for StrIn in open('../work/final_1.txt','r'):\n",
    "    if Record == 0:\n",
    "        TempStr = StrIn.split('\\n')[0]\n",
    "        TempStr = TempStr.split('\\t')\n",
    "        print(len(TempStr))\n",
    "        print(TempStr[25:40])\n",
    "        Record += 1\n",
    "    else:\n",
    "        TempStr = StrIn.split('\\n')[0]\n",
    "        TempStr = TempStr.split('\\t')\n",
    "        if (TempStr[106] == 'true'):\n",
    "            PASS[0] += 1\n",
    "        if (TempStr[106] == 'true') & (TempStr[27] == 'true'):\n",
    "            PASS[1] += 1\n",
    "        if (TempStr[106] == 'true') & (TempStr[27] == 'true') & (TempStr[28] == 'true'):\n",
    "            PASS[2] += 1\n",
    "        if (TempStr[106] == 'true') & (TempStr[27] == 'true') & (TempStr[28] == 'true') & (TempStr[30] == 'true'):\n",
    "            PASS[3] += 1\n",
    "            \n",
    "        # Examine global p-value\n",
    "        if (TempStr[106] == 'true') & (TempStr[27] == 'true') & (TempStr[28] == 'true') & (TempStr[32] == 'true'):\n",
    "            PASS[4] += 1\n",
    "            \n",
    "        # Examine qccum.step4\n",
    "        if TempStr[37] == 'true':\n",
    "            PASS[5] += 1\n",
    "            \n",
    "        # Examine qccum.step5\n",
    "        if TempStr[38] == 'true':\n",
    "            PASS[6] += 1\n",
    "            \n",
    "        # Examine qcpass\n",
    "        if TempStr[39] == 'true':\n",
    "            PASS[7] += 1\n",
    "            \n",
    "        Record += 1"
   ]
  },
  {
   "cell_type": "code",
   "execution_count": 2,
   "metadata": {},
   "outputs": [
    {
     "name": "stdout",
     "output_type": "stream",
     "text": [
      "47217358\n",
      "[38167733, 36102647, 33776822, 30600455, 30968824, 35453652, 32467519, 35453652]\n"
     ]
    }
   ],
   "source": [
    "print(Record)\n",
    "print(PASS)"
   ]
  },
  {
   "cell_type": "code",
   "execution_count": 3,
   "metadata": {},
   "outputs": [],
   "source": [
    "# Write out standard file in VCF format\n",
    "First = True\n",
    "Header = ['#CHROM','POS','ID','REF','ALT','QUAL','FILTER','INFO']\n",
    "with open('../work/qced_1_ccdgf2_variant_list.txt','w') as FileOut:\n",
    "    for StrIn in open('../work/final_1.txt','r'):\n",
    "        if First == True:\n",
    "            FileOut.write('\\t'.join(Header) + '\\n')\n",
    "            First = False\n",
    "        else:\n",
    "            TempStr = StrIn.split('\\n')[0]\n",
    "            TempStr = TempStr.split('\\t')\n",
    "            if (TempStr[106] == 'true') & (TempStr[27] == 'true') & (TempStr[28] == 'true') & (TempStr[30] == 'true'):\n",
    "                StrOut = TempStr[0].split(':')\n",
    "                StrOut.append('.')\n",
    "                StrOut.append(TempStr[1].split('\"')[1])\n",
    "                StrOut.append(TempStr[1].split('\"')[3])\n",
    "                StrOut.append('.')\n",
    "                StrOut.append('PASS')\n",
    "                StrOut.append('.')\n",
    "                FileOut.write('\\t'.join(StrOut) + '\\n')\n",
    "            else:\n",
    "                StrOut = TempStr[0].split(':')\n",
    "                StrOut.append('.')\n",
    "                StrOut.append(TempStr[1].split('\"')[1])\n",
    "                StrOut.append(TempStr[1].split('\"')[3])\n",
    "                StrOut.append('.')\n",
    "                StrOut.append('FAIL')\n",
    "                StrOut.append('.')\n",
    "                FileOut.write('\\t'.join(StrOut) + '\\n')              \n",
    "FileOut.close()"
   ]
  },
  {
   "cell_type": "code",
   "execution_count": 4,
   "metadata": {
    "scrolled": true
   },
   "outputs": [
    {
     "name": "stdout",
     "output_type": "stream",
     "text": [
      "30600455\n",
      "16616902\n",
      "47217357\n"
     ]
    }
   ],
   "source": [
    "# Check the output\n",
    "Pass = 0\n",
    "Fail = 0\n",
    "for StrIn in open('../work/qced_1_ccdgf2_variant_list.txt','r'):\n",
    "    TempStr = StrIn.split('\\n')[0]\n",
    "    TempStr = TempStr.split('\\t')\n",
    "    if TempStr[6] == 'PASS':\n",
    "        Pass += 1\n",
    "    elif TempStr[6] == 'FAIL':\n",
    "        Fail += 1\n",
    "print(Pass)\n",
    "print(Fail)\n",
    "print(Pass + Fail)"
   ]
  },
  {
   "cell_type": "markdown",
   "metadata": {},
   "source": [
    "### V. Compare pipeline"
   ]
  },
  {
   "cell_type": "code",
   "execution_count": 3,
   "metadata": {},
   "outputs": [
    {
     "name": "stdout",
     "output_type": "stream",
     "text": [
      "lowestphwe\n"
     ]
    }
   ],
   "source": [
    "First = True\n",
    "for StrIn in open('../test/qced_1_ccdgf2_variant_qc_table_final.txt','r'):\n",
    "    if First == True:\n",
    "        First = False\n",
    "        TempStr = StrIn.split('\\n')[0]\n",
    "        TempStr = TempStr.split('\\t')\n",
    "        print(TempStr[68])\n",
    "    else:\n",
    "        pass\n",
    "        \n",
    "    "
   ]
  },
  {
   "cell_type": "code",
   "execution_count": 9,
   "metadata": {},
   "outputs": [
    {
     "name": "stdout",
     "output_type": "stream",
     "text": [
      "77\n",
      "['qc.step0', 'qc.step1', 'qc.step2', 'qc.step3', 'qc.step4', 'qc.step5', 'qc.step6', 'qc.step7', 'qccum.step0', 'qccum.step1', 'qccum.step2', 'qccum.step3', 'qccum.step4', 'qccum.step5', 'qcpass']\n"
     ]
    }
   ],
   "source": [
    "First = True\n",
    "Record = 0\n",
    "PASS = [0] * 8\n",
    "for StrIn in open('../test/final_1.txt','r'):\n",
    "    if Record == 0:\n",
    "        TempStr = StrIn.split('\\n')[0]\n",
    "        TempStr = TempStr.split('\\t')\n",
    "        print(len(TempStr))\n",
    "        print(TempStr[25:40])\n",
    "        Record += 1\n",
    "    else:\n",
    "        TempStr = StrIn.split('\\n')[0]\n",
    "        TempStr = TempStr.split('\\t')\n",
    "        if (TempStr[106] == 'true'):\n",
    "            PASS[0] += 1\n",
    "        if (TempStr[106] == 'true') & (TempStr[27] == 'true'):\n",
    "            PASS[1] += 1\n",
    "        if (TempStr[106] == 'true') & (TempStr[27] == 'true') & (TempStr[28] == 'true'):\n",
    "            PASS[2] += 1\n",
    "        if (TempStr[106] == 'true') & (TempStr[27] == 'true') & (TempStr[28] == 'true') & (TempStr[30] == 'true'):\n",
    "            PASS[3] += 1\n",
    "            \n",
    "        # Examine global p-value\n",
    "        if (TempStr[106] == 'true') & (TempStr[27] == 'true') & (TempStr[28] == 'true') & (float(TempStr[68]) >= 5e-6):\n",
    "            PASS[4] += 1\n",
    "            \n",
    "        # Examine qccum.step4\n",
    "        if TempStr[37] == 'true':\n",
    "            PASS[5] += 1\n",
    "            \n",
    "        # Examine qccum.step5\n",
    "        if TempStr[38] == 'true':\n",
    "            PASS[6] += 1\n",
    "            \n",
    "        # Examine qcpass\n",
    "        if TempStr[39] == 'true':\n",
    "            PASS[7] += 1\n",
    "            \n",
    "        Record += 1"
   ]
  },
  {
   "cell_type": "code",
   "execution_count": 10,
   "metadata": {},
   "outputs": [
    {
     "name": "stdout",
     "output_type": "stream",
     "text": [
      "9355429\n",
      "[9355428, 7818938, 7157726, 6506891, 6484389, 6506891, 5772864, 6506891]\n"
     ]
    }
   ],
   "source": [
    "print(Record)\n",
    "print(PASS)"
   ]
  },
  {
   "cell_type": "code",
   "execution_count": null,
   "metadata": {},
   "outputs": [],
   "source": []
  }
 ],
 "metadata": {
  "kernelspec": {
   "display_name": "Python 3",
   "language": "python",
   "name": "python3"
  },
  "language_info": {
   "codemirror_mode": {
    "name": "ipython",
    "version": 3
   },
   "file_extension": ".py",
   "mimetype": "text/x-python",
   "name": "python",
   "nbconvert_exporter": "python",
   "pygments_lexer": "ipython3",
   "version": "3.7.3"
  }
 },
 "nbformat": 4,
 "nbformat_minor": 2
}
